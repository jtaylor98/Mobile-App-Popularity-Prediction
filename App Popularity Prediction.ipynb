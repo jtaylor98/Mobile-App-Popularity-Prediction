{
 "cells": [
  {
   "cell_type": "code",
   "execution_count": 65,
   "metadata": {
    "colab": {},
    "colab_type": "code",
    "id": "JjE1ypoyc1qq"
   },
   "outputs": [],
   "source": [
    "import numpy as np\n",
    "import pandas as pd\n",
    "import matplotlib.pyplot as plt\n",
    "import seaborn as sns\n",
    "\n",
    "from warnings import filterwarnings\n",
    "\n",
    "pd.set_option('display.float_format', lambda num:'%1.3f'%num)\n",
    "pd.set_option('display.max_columns', 99)\n",
    "filterwarnings('ignore')"
   ]
  },
  {
   "cell_type": "code",
   "execution_count": 35,
   "metadata": {
    "colab": {},
    "colab_type": "code",
    "id": "bPWIkZSyasKH"
   },
   "outputs": [],
   "source": [
    "train = pd.read_csv(\"train.csv\")"
   ]
  },
  {
   "cell_type": "code",
   "execution_count": 36,
   "metadata": {
    "colab": {},
    "colab_type": "code",
    "id": "_4UrCtbSasKJ"
   },
   "outputs": [
    {
     "data": {
      "text/html": [
       "<div>\n",
       "<style scoped>\n",
       "    .dataframe tbody tr th:only-of-type {\n",
       "        vertical-align: middle;\n",
       "    }\n",
       "\n",
       "    .dataframe tbody tr th {\n",
       "        vertical-align: top;\n",
       "    }\n",
       "\n",
       "    .dataframe thead th {\n",
       "        text-align: right;\n",
       "    }\n",
       "</style>\n",
       "<table border=\"1\" class=\"dataframe\">\n",
       "  <thead>\n",
       "    <tr style=\"text-align: right;\">\n",
       "      <th></th>\n",
       "      <th>app_id</th>\n",
       "      <th>category</th>\n",
       "      <th>reviews</th>\n",
       "      <th>size</th>\n",
       "      <th>installs</th>\n",
       "      <th>price</th>\n",
       "      <th>suitable_for</th>\n",
       "      <th>last_update</th>\n",
       "      <th>latest_ver</th>\n",
       "      <th>popularity</th>\n",
       "    </tr>\n",
       "  </thead>\n",
       "  <tbody>\n",
       "    <tr>\n",
       "      <th>0</th>\n",
       "      <td>330090</td>\n",
       "      <td>PERSONALIZATION</td>\n",
       "      <td>4</td>\n",
       "      <td>511k</td>\n",
       "      <td>50+</td>\n",
       "      <td>0</td>\n",
       "      <td>Everyone</td>\n",
       "      <td>December 31, 2016</td>\n",
       "      <td>1.4</td>\n",
       "      <td>High</td>\n",
       "    </tr>\n",
       "    <tr>\n",
       "      <th>1</th>\n",
       "      <td>226147</td>\n",
       "      <td>GAME</td>\n",
       "      <td>568391</td>\n",
       "      <td>5.2M</td>\n",
       "      <td>5,000,000+</td>\n",
       "      <td>0</td>\n",
       "      <td>Teen</td>\n",
       "      <td>July 1, 2014</td>\n",
       "      <td>4.3.1</td>\n",
       "      <td>High</td>\n",
       "    </tr>\n",
       "    <tr>\n",
       "      <th>2</th>\n",
       "      <td>107000</td>\n",
       "      <td>FAMILY</td>\n",
       "      <td>144</td>\n",
       "      <td>70M</td>\n",
       "      <td>1,000+</td>\n",
       "      <td>$2.99</td>\n",
       "      <td>Teen</td>\n",
       "      <td>January 26, 2018</td>\n",
       "      <td>1.0.0</td>\n",
       "      <td>High</td>\n",
       "    </tr>\n",
       "    <tr>\n",
       "      <th>3</th>\n",
       "      <td>217582</td>\n",
       "      <td>FAMILY</td>\n",
       "      <td>1499466</td>\n",
       "      <td>96M</td>\n",
       "      <td>10,000,000+</td>\n",
       "      <td>0</td>\n",
       "      <td>Teen</td>\n",
       "      <td>July 24, 2018</td>\n",
       "      <td>1.25.0</td>\n",
       "      <td>High</td>\n",
       "    </tr>\n",
       "    <tr>\n",
       "      <th>4</th>\n",
       "      <td>370113</td>\n",
       "      <td>DATING</td>\n",
       "      <td>84</td>\n",
       "      <td>4.5M</td>\n",
       "      <td>1,000+</td>\n",
       "      <td>0</td>\n",
       "      <td>Mature 17+</td>\n",
       "      <td>July 6, 2018</td>\n",
       "      <td>8.2</td>\n",
       "      <td>High</td>\n",
       "    </tr>\n",
       "  </tbody>\n",
       "</table>\n",
       "</div>"
      ],
      "text/plain": [
       "   app_id         category  reviews  size     installs  price suitable_for  \\\n",
       "0  330090  PERSONALIZATION        4  511k          50+      0     Everyone   \n",
       "1  226147             GAME   568391  5.2M   5,000,000+      0         Teen   \n",
       "2  107000           FAMILY      144   70M       1,000+  $2.99         Teen   \n",
       "3  217582           FAMILY  1499466   96M  10,000,000+      0         Teen   \n",
       "4  370113           DATING       84  4.5M       1,000+      0   Mature 17+   \n",
       "\n",
       "         last_update latest_ver popularity  \n",
       "0  December 31, 2016        1.4       High  \n",
       "1       July 1, 2014      4.3.1       High  \n",
       "2   January 26, 2018      1.0.0       High  \n",
       "3      July 24, 2018     1.25.0       High  \n",
       "4       July 6, 2018        8.2       High  "
      ]
     },
     "execution_count": 36,
     "metadata": {},
     "output_type": "execute_result"
    }
   ],
   "source": [
    "train.head()"
   ]
  },
  {
   "cell_type": "code",
   "execution_count": 37,
   "metadata": {},
   "outputs": [
    {
     "data": {
      "text/plain": [
       "0"
      ]
     },
     "execution_count": 37,
     "metadata": {},
     "output_type": "execute_result"
    }
   ],
   "source": [
    "#checking for duplicates\n",
    "train.duplicated().sum()"
   ]
  },
  {
   "cell_type": "code",
   "execution_count": 38,
   "metadata": {
    "colab": {},
    "colab_type": "code",
    "id": "W4tSmPPEasKK"
   },
   "outputs": [
    {
     "data": {
      "text/plain": [
       "Index(['app_id', 'category', 'reviews', 'size', 'installs', 'price',\n",
       "       'suitable_for', 'last_update', 'latest_ver', 'popularity'],\n",
       "      dtype='object')"
      ]
     },
     "execution_count": 38,
     "metadata": {},
     "output_type": "execute_result"
    }
   ],
   "source": [
    "#Explore columns\n",
    "train.columns"
   ]
  },
  {
   "cell_type": "code",
   "execution_count": 39,
   "metadata": {},
   "outputs": [
    {
     "name": "stdout",
     "output_type": "stream",
     "text": [
      "<class 'pandas.core.frame.DataFrame'>\n",
      "RangeIndex: 1975 entries, 0 to 1974\n",
      "Data columns (total 10 columns):\n",
      " #   Column        Non-Null Count  Dtype \n",
      "---  ------        --------------  ----- \n",
      " 0   app_id        1975 non-null   int64 \n",
      " 1   category      1975 non-null   object\n",
      " 2   reviews       1975 non-null   int64 \n",
      " 3   size          1975 non-null   object\n",
      " 4   installs      1975 non-null   object\n",
      " 5   price         1975 non-null   object\n",
      " 6   suitable_for  1975 non-null   object\n",
      " 7   last_update   1975 non-null   object\n",
      " 8   latest_ver    1971 non-null   object\n",
      " 9   popularity    1975 non-null   object\n",
      "dtypes: int64(2), object(8)\n",
      "memory usage: 154.4+ KB\n"
     ]
    }
   ],
   "source": [
    "#taking a look at data types & null values\n",
    "train.info()"
   ]
  },
  {
   "cell_type": "code",
   "execution_count": 40,
   "metadata": {
    "colab": {},
    "colab_type": "code",
    "id": "dNTDbVpS3PNV"
   },
   "outputs": [
    {
     "name": "stdout",
     "output_type": "stream",
     "text": [
      "<class 'pandas.core.frame.DataFrame'>\n",
      "Int64Index: 1971 entries, 0 to 1974\n",
      "Data columns (total 10 columns):\n",
      " #   Column        Non-Null Count  Dtype \n",
      "---  ------        --------------  ----- \n",
      " 0   app_id        1971 non-null   int64 \n",
      " 1   category      1971 non-null   object\n",
      " 2   reviews       1971 non-null   int64 \n",
      " 3   size          1971 non-null   object\n",
      " 4   installs      1971 non-null   object\n",
      " 5   price         1971 non-null   object\n",
      " 6   suitable_for  1971 non-null   object\n",
      " 7   last_update   1971 non-null   object\n",
      " 8   latest_ver    1971 non-null   object\n",
      " 9   popularity    1971 non-null   object\n",
      "dtypes: int64(2), object(8)\n",
      "memory usage: 169.4+ KB\n"
     ]
    }
   ],
   "source": [
    "#dropping rows with null values\n",
    "train = train.dropna()\n",
    "train.info() "
   ]
  },
  {
   "cell_type": "code",
   "execution_count": 41,
   "metadata": {
    "colab": {},
    "colab_type": "code",
    "id": "RJPiIhd-asKO"
   },
   "outputs": [],
   "source": [
    "#DATA CLEANING & PREPROCESSING\n",
    "\n",
    "from sklearn.model_selection import cross_val_score\n",
    "from sklearn.linear_model import LogisticRegression\n",
    "from sklearn.preprocessing import LabelEncoder\n",
    "from sklearn.preprocessing import OneHotEncoder\n",
    "from sklearn.feature_selection import SelectKBest, chi2\n",
    "import seaborn as sns\n",
    "import time\n",
    "from scipy.stats import pearsonr\n",
    "import datetime\n",
    "\n",
    "def format_num(num): #function to format number in size column\n",
    "    count = 0\n",
    "    if \"M\" in num:\n",
    "        if \".\" in num:\n",
    "            idx = num.index(\".\") \n",
    "            num = num.replace(\".\",\"\")\n",
    "        else: idx = len(num)-1\n",
    "        num = num.replace(\"M\",\"\")\n",
    "        for i in range((idx+6)-len(num)): \n",
    "            num += \"0\"\n",
    "    elif \"k\" in num:\n",
    "        if \".\" in num:\n",
    "            idx = num.index(\".\") \n",
    "            num = num.replace(\".\",\"\")\n",
    "        else: idx = len(num)-1\n",
    "        num = num.replace(\"k\",\"\")\n",
    "        for i in range((idx+3)-len(num)): \n",
    "            num += \"0\"\n",
    "    return num\n",
    "\n",
    "def remove_dot(num): #function to remove period from lastest_ver column\n",
    "    occurrence = num.count(\".\")\n",
    "    if occurrence > 1:\n",
    "        for i in range(occurrence-1):\n",
    "            idx = num.rindex(\".\")\n",
    "            num = num[:idx] + num[idx+1:]\n",
    "        return num\n",
    "    else:\n",
    "        return num\n",
    "    \n",
    "train[\"size\"] = train[\"size\"].astype(str).apply(format_num, 1).astype(float) #converting short hand notation of num to full number for \"size\" column\n",
    "train[\"installs\"] = train[\"installs\"].apply(lambda x: x.strip(\"+\").replace(\",\",\"\")).astype(float) #removing the plus signs & commas from values in \"installs\" column\n",
    "train[\"price\"] = train[\"price\"].astype(str).apply(lambda x: x.strip(\"$\")).astype(float) #removing dollar sign symbol from number\n",
    "train[\"latest_ver\"] = train[\"latest_ver\"].astype(str).apply(remove_dot, 1).astype(float) #removing periods to turn into proper decimal\n",
    "train[\"last_update\"] = train[\"last_update\"].apply(lambda x: time.mktime(datetime.datetime.strptime(x, '%B %d, %Y').timetuple())) #converting date to timestamp\n",
    "le = LabelEncoder()\n",
    "train[\"popularity\"] = le.fit_transform(train[\"popularity\"])"
   ]
  },
  {
   "cell_type": "code",
   "execution_count": 44,
   "metadata": {},
   "outputs": [
    {
     "name": "stdout",
     "output_type": "stream",
     "text": [
      "<class 'pandas.core.frame.DataFrame'>\n",
      "Int64Index: 1971 entries, 0 to 1974\n",
      "Data columns (total 10 columns):\n",
      " #   Column        Non-Null Count  Dtype  \n",
      "---  ------        --------------  -----  \n",
      " 0   app_id        1971 non-null   int64  \n",
      " 1   category      1971 non-null   object \n",
      " 2   reviews       1971 non-null   int64  \n",
      " 3   size          1971 non-null   float64\n",
      " 4   installs      1971 non-null   float64\n",
      " 5   price         1971 non-null   float64\n",
      " 6   suitable_for  1971 non-null   object \n",
      " 7   last_update   1971 non-null   float64\n",
      " 8   latest_ver    1971 non-null   float64\n",
      " 9   popularity    1971 non-null   int32  \n",
      "dtypes: float64(5), int32(1), int64(2), object(2)\n",
      "memory usage: 161.7+ KB\n"
     ]
    }
   ],
   "source": [
    "#checking datatypes\n",
    "train.info()"
   ]
  },
  {
   "cell_type": "code",
   "execution_count": 45,
   "metadata": {},
   "outputs": [
    {
     "data": {
      "text/html": [
       "<div>\n",
       "<style scoped>\n",
       "    .dataframe tbody tr th:only-of-type {\n",
       "        vertical-align: middle;\n",
       "    }\n",
       "\n",
       "    .dataframe tbody tr th {\n",
       "        vertical-align: top;\n",
       "    }\n",
       "\n",
       "    .dataframe thead th {\n",
       "        text-align: right;\n",
       "    }\n",
       "</style>\n",
       "<table border=\"1\" class=\"dataframe\">\n",
       "  <thead>\n",
       "    <tr style=\"text-align: right;\">\n",
       "      <th></th>\n",
       "      <th>app_id</th>\n",
       "      <th>reviews</th>\n",
       "      <th>size</th>\n",
       "      <th>installs</th>\n",
       "      <th>price</th>\n",
       "      <th>last_update</th>\n",
       "      <th>latest_ver</th>\n",
       "      <th>popularity</th>\n",
       "    </tr>\n",
       "  </thead>\n",
       "  <tbody>\n",
       "    <tr>\n",
       "      <th>count</th>\n",
       "      <td>1971.000</td>\n",
       "      <td>1971.000</td>\n",
       "      <td>1971.000</td>\n",
       "      <td>1971.000</td>\n",
       "      <td>1971.000</td>\n",
       "      <td>1971.000</td>\n",
       "      <td>1971.000</td>\n",
       "      <td>1971.000</td>\n",
       "    </tr>\n",
       "    <tr>\n",
       "      <th>mean</th>\n",
       "      <td>490846.935</td>\n",
       "      <td>199212.289</td>\n",
       "      <td>20425462.202</td>\n",
       "      <td>3825912.383</td>\n",
       "      <td>0.860</td>\n",
       "      <td>1510999479.452</td>\n",
       "      <td>21644.937</td>\n",
       "      <td>0.265</td>\n",
       "    </tr>\n",
       "    <tr>\n",
       "      <th>std</th>\n",
       "      <td>288217.174</td>\n",
       "      <td>1495580.794</td>\n",
       "      <td>21971652.409</td>\n",
       "      <td>26226175.364</td>\n",
       "      <td>12.703</td>\n",
       "      <td>33460740.233</td>\n",
       "      <td>643185.018</td>\n",
       "      <td>0.442</td>\n",
       "    </tr>\n",
       "    <tr>\n",
       "      <th>min</th>\n",
       "      <td>1160.000</td>\n",
       "      <td>1.000</td>\n",
       "      <td>29000.000</td>\n",
       "      <td>1.000</td>\n",
       "      <td>0.000</td>\n",
       "      <td>1308801600.000</td>\n",
       "      <td>0.010</td>\n",
       "      <td>0.000</td>\n",
       "    </tr>\n",
       "    <tr>\n",
       "      <th>25%</th>\n",
       "      <td>239249.500</td>\n",
       "      <td>33.000</td>\n",
       "      <td>4800000.000</td>\n",
       "      <td>1000.000</td>\n",
       "      <td>0.000</td>\n",
       "      <td>1505361600.000</td>\n",
       "      <td>1.110</td>\n",
       "      <td>0.000</td>\n",
       "    </tr>\n",
       "    <tr>\n",
       "      <th>50%</th>\n",
       "      <td>482873.000</td>\n",
       "      <td>516.000</td>\n",
       "      <td>12000000.000</td>\n",
       "      <td>50000.000</td>\n",
       "      <td>0.000</td>\n",
       "      <td>1526529600.000</td>\n",
       "      <td>1.819</td>\n",
       "      <td>0.000</td>\n",
       "    </tr>\n",
       "    <tr>\n",
       "      <th>75%</th>\n",
       "      <td>738173.000</td>\n",
       "      <td>19189.500</td>\n",
       "      <td>27000000.000</td>\n",
       "      <td>1000000.000</td>\n",
       "      <td>0.000</td>\n",
       "      <td>1531800000.000</td>\n",
       "      <td>3.300</td>\n",
       "      <td>1.000</td>\n",
       "    </tr>\n",
       "    <tr>\n",
       "      <th>max</th>\n",
       "      <td>999218.000</td>\n",
       "      <td>44891723.000</td>\n",
       "      <td>100000000.000</td>\n",
       "      <td>1000000000.000</td>\n",
       "      <td>399.990</td>\n",
       "      <td>1533614400.000</td>\n",
       "      <td>20180620.000</td>\n",
       "      <td>1.000</td>\n",
       "    </tr>\n",
       "  </tbody>\n",
       "</table>\n",
       "</div>"
      ],
      "text/plain": [
       "          app_id      reviews          size       installs    price  \\\n",
       "count   1971.000     1971.000      1971.000       1971.000 1971.000   \n",
       "mean  490846.935   199212.289  20425462.202    3825912.383    0.860   \n",
       "std   288217.174  1495580.794  21971652.409   26226175.364   12.703   \n",
       "min     1160.000        1.000     29000.000          1.000    0.000   \n",
       "25%   239249.500       33.000   4800000.000       1000.000    0.000   \n",
       "50%   482873.000      516.000  12000000.000      50000.000    0.000   \n",
       "75%   738173.000    19189.500  27000000.000    1000000.000    0.000   \n",
       "max   999218.000 44891723.000 100000000.000 1000000000.000  399.990   \n",
       "\n",
       "         last_update   latest_ver  popularity  \n",
       "count       1971.000     1971.000    1971.000  \n",
       "mean  1510999479.452    21644.937       0.265  \n",
       "std     33460740.233   643185.018       0.442  \n",
       "min   1308801600.000        0.010       0.000  \n",
       "25%   1505361600.000        1.110       0.000  \n",
       "50%   1526529600.000        1.819       0.000  \n",
       "75%   1531800000.000        3.300       1.000  \n",
       "max   1533614400.000 20180620.000       1.000  "
      ]
     },
     "execution_count": 45,
     "metadata": {},
     "output_type": "execute_result"
    }
   ],
   "source": [
    "#displaying central tendencies of data\n",
    "train.describe()\n",
    "\n",
    "#NEED TO NORMALIZE NUMERICAL DATA HERE AND VISUALIZE"
   ]
  },
  {
   "cell_type": "code",
   "execution_count": 46,
   "metadata": {},
   "outputs": [
    {
     "data": {
      "image/png": "[encoded data removed]",
      "text/plain": [
       "<Figure size 432x288 with 1 Axes>"
      ]
     },
     "metadata": {
      "needs_background": "light"
     },
     "output_type": "display_data"
    },
    {
     "data": {
      "image/png": "[encoded data removed]",
      "text/plain": [
       "<Figure size 432x288 with 1 Axes>"
      ]
     },
     "metadata": {
      "needs_background": "light"
     },
     "output_type": "display_data"
    },
    {
     "data": {
      "image/png": "[encoded data removed]",
      "text/plain": [
       "<Figure size 432x288 with 1 Axes>"
      ]
     },
     "metadata": {
      "needs_background": "light"
     },
     "output_type": "display_data"
    },
    {
     "data": {
      "image/png": "[encoded data removed]",
      "text/plain": [
       "<Figure size 432x288 with 1 Axes>"
      ]
     },
     "metadata": {
      "needs_background": "light"
     },
     "output_type": "display_data"
    },
    {
     "data": {
      "image/png": "[encoded data removed]",
      "text/plain": [
       "<Figure size 432x288 with 1 Axes>"
      ]
     },
     "metadata": {
      "needs_background": "light"
     },
     "output_type": "display_data"
    },
    {
     "data": {
      "image/png": "[encoded data removed]",
      "text/plain": [
       "<Figure size 432x288 with 1 Axes>"
      ]
     },
     "metadata": {
      "needs_background": "light"
     },
     "output_type": "display_data"
    }
   ],
   "source": [
    "#splitting up data into categorical and continuous for analysis\n",
    "num_df = train[[\"reviews\", \"size\", \"installs\", \"price\", \"last_update\", \"latest_ver\"]]\n",
    "cat_df = train[[\"category\", \"suitable_for\"]]\n",
    "\n",
    "#taking a look at the distributions\n",
    "for i in num_df.columns:\n",
    "    plt.hist(num_df[i])\n",
    "    plt.title(i)\n",
    "    plt.show()"
   ]
  },
  {
   "cell_type": "code",
   "execution_count": 47,
   "metadata": {},
   "outputs": [
    {
     "data": {
      "text/html": [
       "<div>\n",
       "<style scoped>\n",
       "    .dataframe tbody tr th:only-of-type {\n",
       "        vertical-align: middle;\n",
       "    }\n",
       "\n",
       "    .dataframe tbody tr th {\n",
       "        vertical-align: top;\n",
       "    }\n",
       "\n",
       "    .dataframe thead th {\n",
       "        text-align: right;\n",
       "    }\n",
       "</style>\n",
       "<table border=\"1\" class=\"dataframe\">\n",
       "  <thead>\n",
       "    <tr style=\"text-align: right;\">\n",
       "      <th></th>\n",
       "      <th>reviews</th>\n",
       "      <th>size</th>\n",
       "      <th>installs</th>\n",
       "      <th>price</th>\n",
       "      <th>last_update</th>\n",
       "      <th>latest_ver</th>\n",
       "    </tr>\n",
       "  </thead>\n",
       "  <tbody>\n",
       "    <tr>\n",
       "      <th>reviews</th>\n",
       "      <td>1.000</td>\n",
       "      <td>0.207</td>\n",
       "      <td>0.676</td>\n",
       "      <td>-0.009</td>\n",
       "      <td>0.067</td>\n",
       "      <td>-0.004</td>\n",
       "    </tr>\n",
       "    <tr>\n",
       "      <th>size</th>\n",
       "      <td>0.207</td>\n",
       "      <td>1.000</td>\n",
       "      <td>0.179</td>\n",
       "      <td>-0.016</td>\n",
       "      <td>0.237</td>\n",
       "      <td>-0.016</td>\n",
       "    </tr>\n",
       "    <tr>\n",
       "      <th>installs</th>\n",
       "      <td>0.676</td>\n",
       "      <td>0.179</td>\n",
       "      <td>1.000</td>\n",
       "      <td>-0.010</td>\n",
       "      <td>0.071</td>\n",
       "      <td>-0.005</td>\n",
       "    </tr>\n",
       "    <tr>\n",
       "      <th>price</th>\n",
       "      <td>-0.009</td>\n",
       "      <td>-0.016</td>\n",
       "      <td>-0.010</td>\n",
       "      <td>1.000</td>\n",
       "      <td>-0.020</td>\n",
       "      <td>-0.002</td>\n",
       "    </tr>\n",
       "    <tr>\n",
       "      <th>last_update</th>\n",
       "      <td>0.067</td>\n",
       "      <td>0.237</td>\n",
       "      <td>0.071</td>\n",
       "      <td>-0.020</td>\n",
       "      <td>1.000</td>\n",
       "      <td>0.017</td>\n",
       "    </tr>\n",
       "    <tr>\n",
       "      <th>latest_ver</th>\n",
       "      <td>-0.004</td>\n",
       "      <td>-0.016</td>\n",
       "      <td>-0.005</td>\n",
       "      <td>-0.002</td>\n",
       "      <td>0.017</td>\n",
       "      <td>1.000</td>\n",
       "    </tr>\n",
       "  </tbody>\n",
       "</table>\n",
       "</div>"
      ],
      "text/plain": [
       "             reviews   size  installs  price  last_update  latest_ver\n",
       "reviews        1.000  0.207     0.676 -0.009        0.067      -0.004\n",
       "size           0.207  1.000     0.179 -0.016        0.237      -0.016\n",
       "installs       0.676  0.179     1.000 -0.010        0.071      -0.005\n",
       "price         -0.009 -0.016    -0.010  1.000       -0.020      -0.002\n",
       "last_update    0.067  0.237     0.071 -0.020        1.000       0.017\n",
       "latest_ver    -0.004 -0.016    -0.005 -0.002        0.017       1.000"
      ]
     },
     "execution_count": 47,
     "metadata": {},
     "output_type": "execute_result"
    },
    {
     "data": {
      "image/png": "[encoded data removed]",
      "text/plain": [
       "<Figure size 432x288 with 2 Axes>"
      ]
     },
     "metadata": {
      "needs_background": "light"
     },
     "output_type": "display_data"
    }
   ],
   "source": [
    "import seaborn as sns\n",
    "sns.heatmap(num_df.corr())\n",
    "num_df.corr()"
   ]
  },
  {
   "cell_type": "code",
   "execution_count": 48,
   "metadata": {
    "colab": {},
    "colab_type": "code",
    "id": "rKQcXxm8c1rW"
   },
   "outputs": [],
   "source": [
    "#PRE-PROCESSING CATEGORICAL DATA\n",
    "\n",
    "#applies different preprocessing to different columns\n",
    "#specifically selects from df columns by name\n",
    "#passthrough or drop unspecified columns\n",
    "#used anytime features in the df need DIFFERENT preprocessing than other columns\n",
    "from sklearn.preprocessing import OneHotEncoder\n",
    "from sklearn.compose import make_column_transformer\n",
    "from sklearn.model_selection import train_test_split\n",
    "from sklearn.model_selection import cross_val_score\n",
    "from sklearn.compose import ColumnTransformer\n",
    "from sklearn.preprocessing import MinMaxScaler\n",
    "from sklearn.preprocessing import StandardScaler\n",
    "from sklearn.pipeline import Pipeline\n",
    "\n",
    "#scaled = scaler.fit_transform(num_df[[\"reviews\", \"size\", \"installs\", \"price\", \"last_update\", \"latest_ver\"]])\n",
    "X = train.drop([\"popularity\", \"app_id\"], axis=\"columns\")\n",
    "y = train[[\"popularity\"]]\n",
    "\n",
    "#creating preprocessor for cat and num features\n",
    "preprocessor = make_column_transformer(\n",
    "    (MinMaxScaler(), [\"reviews\", \"size\", \"installs\", \"price\", \"last_update\", \"latest_ver\"]),\n",
    "    (OneHotEncoder(handle_unknown=\"ignore\"), [\"category\", \"suitable_for\"]))\n",
    "\n",
    "X_train, X_test, y_train, y_test = train_test_split(X, y, test_size=0.33) #splitting data into train/test sets\n"
   ]
  },
  {
   "cell_type": "code",
   "execution_count": 49,
   "metadata": {},
   "outputs": [
    {
     "data": {
      "text/html": [
       "<div>\n",
       "<style scoped>\n",
       "    .dataframe tbody tr th:only-of-type {\n",
       "        vertical-align: middle;\n",
       "    }\n",
       "\n",
       "    .dataframe tbody tr th {\n",
       "        vertical-align: top;\n",
       "    }\n",
       "\n",
       "    .dataframe thead th {\n",
       "        text-align: right;\n",
       "    }\n",
       "</style>\n",
       "<table border=\"1\" class=\"dataframe\">\n",
       "  <thead>\n",
       "    <tr style=\"text-align: right;\">\n",
       "      <th></th>\n",
       "      <th>app_id</th>\n",
       "      <th>category</th>\n",
       "      <th>reviews</th>\n",
       "      <th>size</th>\n",
       "      <th>installs</th>\n",
       "      <th>price</th>\n",
       "      <th>suitable_for</th>\n",
       "      <th>last_update</th>\n",
       "      <th>latest_ver</th>\n",
       "      <th>popularity</th>\n",
       "    </tr>\n",
       "  </thead>\n",
       "  <tbody>\n",
       "    <tr>\n",
       "      <th>0</th>\n",
       "      <td>330090</td>\n",
       "      <td>PERSONALIZATION</td>\n",
       "      <td>4</td>\n",
       "      <td>511000.000</td>\n",
       "      <td>50.000</td>\n",
       "      <td>0.000</td>\n",
       "      <td>Everyone</td>\n",
       "      <td>1483160400.000</td>\n",
       "      <td>1.400</td>\n",
       "      <td>0</td>\n",
       "    </tr>\n",
       "    <tr>\n",
       "      <th>1</th>\n",
       "      <td>226147</td>\n",
       "      <td>GAME</td>\n",
       "      <td>568391</td>\n",
       "      <td>5200000.000</td>\n",
       "      <td>5000000.000</td>\n",
       "      <td>0.000</td>\n",
       "      <td>Teen</td>\n",
       "      <td>1404187200.000</td>\n",
       "      <td>4.310</td>\n",
       "      <td>0</td>\n",
       "    </tr>\n",
       "    <tr>\n",
       "      <th>2</th>\n",
       "      <td>107000</td>\n",
       "      <td>FAMILY</td>\n",
       "      <td>144</td>\n",
       "      <td>70000000.000</td>\n",
       "      <td>1000.000</td>\n",
       "      <td>2.990</td>\n",
       "      <td>Teen</td>\n",
       "      <td>1516942800.000</td>\n",
       "      <td>1.000</td>\n",
       "      <td>0</td>\n",
       "    </tr>\n",
       "    <tr>\n",
       "      <th>3</th>\n",
       "      <td>217582</td>\n",
       "      <td>FAMILY</td>\n",
       "      <td>1499466</td>\n",
       "      <td>96000000.000</td>\n",
       "      <td>10000000.000</td>\n",
       "      <td>0.000</td>\n",
       "      <td>Teen</td>\n",
       "      <td>1532404800.000</td>\n",
       "      <td>1.250</td>\n",
       "      <td>0</td>\n",
       "    </tr>\n",
       "    <tr>\n",
       "      <th>4</th>\n",
       "      <td>370113</td>\n",
       "      <td>DATING</td>\n",
       "      <td>84</td>\n",
       "      <td>4500000.000</td>\n",
       "      <td>1000.000</td>\n",
       "      <td>0.000</td>\n",
       "      <td>Mature 17+</td>\n",
       "      <td>1530849600.000</td>\n",
       "      <td>8.200</td>\n",
       "      <td>0</td>\n",
       "    </tr>\n",
       "  </tbody>\n",
       "</table>\n",
       "</div>"
      ],
      "text/plain": [
       "   app_id         category  reviews         size     installs  price  \\\n",
       "0  330090  PERSONALIZATION        4   511000.000       50.000  0.000   \n",
       "1  226147             GAME   568391  5200000.000  5000000.000  0.000   \n",
       "2  107000           FAMILY      144 70000000.000     1000.000  2.990   \n",
       "3  217582           FAMILY  1499466 96000000.000 10000000.000  0.000   \n",
       "4  370113           DATING       84  4500000.000     1000.000  0.000   \n",
       "\n",
       "  suitable_for    last_update  latest_ver  popularity  \n",
       "0     Everyone 1483160400.000       1.400           0  \n",
       "1         Teen 1404187200.000       4.310           0  \n",
       "2         Teen 1516942800.000       1.000           0  \n",
       "3         Teen 1532404800.000       1.250           0  \n",
       "4   Mature 17+ 1530849600.000       8.200           0  "
      ]
     },
     "execution_count": 49,
     "metadata": {},
     "output_type": "execute_result"
    }
   ],
   "source": [
    "train.head()"
   ]
  },
  {
   "cell_type": "code",
   "execution_count": 50,
   "metadata": {},
   "outputs": [
    {
     "data": {
      "text/html": [
       "<div>\n",
       "<style scoped>\n",
       "    .dataframe tbody tr th:only-of-type {\n",
       "        vertical-align: middle;\n",
       "    }\n",
       "\n",
       "    .dataframe tbody tr th {\n",
       "        vertical-align: top;\n",
       "    }\n",
       "\n",
       "    .dataframe thead th {\n",
       "        text-align: right;\n",
       "    }\n",
       "</style>\n",
       "<table border=\"1\" class=\"dataframe\">\n",
       "  <thead>\n",
       "    <tr style=\"text-align: right;\">\n",
       "      <th></th>\n",
       "      <th>price</th>\n",
       "    </tr>\n",
       "    <tr>\n",
       "      <th>popularity</th>\n",
       "      <th></th>\n",
       "    </tr>\n",
       "  </thead>\n",
       "  <tbody>\n",
       "    <tr>\n",
       "      <th>0</th>\n",
       "      <td>0.479</td>\n",
       "    </tr>\n",
       "    <tr>\n",
       "      <th>1</th>\n",
       "      <td>1.916</td>\n",
       "    </tr>\n",
       "  </tbody>\n",
       "</table>\n",
       "</div>"
      ],
      "text/plain": [
       "            price\n",
       "popularity       \n",
       "0           0.479\n",
       "1           1.916"
      ]
     },
     "execution_count": 50,
     "metadata": {},
     "output_type": "execute_result"
    }
   ],
   "source": [
    "train.pivot_table(index=\"popularity\", values=\"price\", aggfunc = \"mean\")\n",
    "#train.head()"
   ]
  },
  {
   "cell_type": "code",
   "execution_count": 53,
   "metadata": {},
   "outputs": [
    {
     "data": {
      "text/html": [
       "<div>\n",
       "<style scoped>\n",
       "    .dataframe tbody tr th:only-of-type {\n",
       "        vertical-align: middle;\n",
       "    }\n",
       "\n",
       "    .dataframe tbody tr th {\n",
       "        vertical-align: top;\n",
       "    }\n",
       "\n",
       "    .dataframe thead th {\n",
       "        text-align: right;\n",
       "    }\n",
       "</style>\n",
       "<table border=\"1\" class=\"dataframe\">\n",
       "  <thead>\n",
       "    <tr style=\"text-align: right;\">\n",
       "      <th>category</th>\n",
       "      <th>ART_AND_DESIGN</th>\n",
       "      <th>AUTO_AND_VEHICLES</th>\n",
       "      <th>BEAUTY</th>\n",
       "      <th>BOOKS_AND_REFERENCE</th>\n",
       "      <th>BUSINESS</th>\n",
       "      <th>COMICS</th>\n",
       "      <th>COMMUNICATION</th>\n",
       "      <th>DATING</th>\n",
       "      <th>EDUCATION</th>\n",
       "      <th>ENTERTAINMENT</th>\n",
       "      <th>EVENTS</th>\n",
       "      <th>FAMILY</th>\n",
       "      <th>FINANCE</th>\n",
       "      <th>FOOD_AND_DRINK</th>\n",
       "      <th>GAME</th>\n",
       "      <th>HEALTH_AND_FITNESS</th>\n",
       "      <th>HOUSE_AND_HOME</th>\n",
       "      <th>LIBRARIES_AND_DEMO</th>\n",
       "      <th>LIFESTYLE</th>\n",
       "      <th>MAPS_AND_NAVIGATION</th>\n",
       "      <th>MEDICAL</th>\n",
       "      <th>NEWS_AND_MAGAZINES</th>\n",
       "      <th>PARENTING</th>\n",
       "      <th>PERSONALIZATION</th>\n",
       "      <th>PHOTOGRAPHY</th>\n",
       "      <th>PRODUCTIVITY</th>\n",
       "      <th>SHOPPING</th>\n",
       "      <th>SOCIAL</th>\n",
       "      <th>SPORTS</th>\n",
       "      <th>TOOLS</th>\n",
       "      <th>TRAVEL_AND_LOCAL</th>\n",
       "      <th>VIDEO_PLAYERS</th>\n",
       "      <th>WEATHER</th>\n",
       "    </tr>\n",
       "    <tr>\n",
       "      <th>popularity</th>\n",
       "      <th></th>\n",
       "      <th></th>\n",
       "      <th></th>\n",
       "      <th></th>\n",
       "      <th></th>\n",
       "      <th></th>\n",
       "      <th></th>\n",
       "      <th></th>\n",
       "      <th></th>\n",
       "      <th></th>\n",
       "      <th></th>\n",
       "      <th></th>\n",
       "      <th></th>\n",
       "      <th></th>\n",
       "      <th></th>\n",
       "      <th></th>\n",
       "      <th></th>\n",
       "      <th></th>\n",
       "      <th></th>\n",
       "      <th></th>\n",
       "      <th></th>\n",
       "      <th></th>\n",
       "      <th></th>\n",
       "      <th></th>\n",
       "      <th></th>\n",
       "      <th></th>\n",
       "      <th></th>\n",
       "      <th></th>\n",
       "      <th></th>\n",
       "      <th></th>\n",
       "      <th></th>\n",
       "      <th></th>\n",
       "      <th></th>\n",
       "    </tr>\n",
       "  </thead>\n",
       "  <tbody>\n",
       "    <tr>\n",
       "      <th>0</th>\n",
       "      <td>1613882.353</td>\n",
       "      <td>543961.538</td>\n",
       "      <td>249545.455</td>\n",
       "      <td>851294.186</td>\n",
       "      <td>568983.372</td>\n",
       "      <td>348285.714</td>\n",
       "      <td>4430088.571</td>\n",
       "      <td>915488.235</td>\n",
       "      <td>2209136.364</td>\n",
       "      <td>4700000.000</td>\n",
       "      <td>151016.667</td>\n",
       "      <td>1572001.039</td>\n",
       "      <td>858917.273</td>\n",
       "      <td>1105565.789</td>\n",
       "      <td>22399198.596</td>\n",
       "      <td>1979567.833</td>\n",
       "      <td>4040200.000</td>\n",
       "      <td>83454.545</td>\n",
       "      <td>1417485.574</td>\n",
       "      <td>1180853.846</td>\n",
       "      <td>196589.494</td>\n",
       "      <td>737211.429</td>\n",
       "      <td>1151500.000</td>\n",
       "      <td>5307334.714</td>\n",
       "      <td>7726089.459</td>\n",
       "      <td>5845768.636</td>\n",
       "      <td>7726915.185</td>\n",
       "      <td>1203945.270</td>\n",
       "      <td>2481060.698</td>\n",
       "      <td>6790696.698</td>\n",
       "      <td>1537442.857</td>\n",
       "      <td>20186535.714</td>\n",
       "      <td>836000.000</td>\n",
       "    </tr>\n",
       "    <tr>\n",
       "      <th>1</th>\n",
       "      <td>nan</td>\n",
       "      <td>18016.667</td>\n",
       "      <td>10000.000</td>\n",
       "      <td>152857.143</td>\n",
       "      <td>265477.273</td>\n",
       "      <td>1025000.000</td>\n",
       "      <td>22014.286</td>\n",
       "      <td>427674.211</td>\n",
       "      <td>100000.000</td>\n",
       "      <td>nan</td>\n",
       "      <td>nan</td>\n",
       "      <td>482407.030</td>\n",
       "      <td>85392.593</td>\n",
       "      <td>1732857.143</td>\n",
       "      <td>1504100.000</td>\n",
       "      <td>479221.739</td>\n",
       "      <td>367000.000</td>\n",
       "      <td>300000.000</td>\n",
       "      <td>292823.333</td>\n",
       "      <td>23923.846</td>\n",
       "      <td>59523.214</td>\n",
       "      <td>340684.211</td>\n",
       "      <td>10000.000</td>\n",
       "      <td>522270.000</td>\n",
       "      <td>355733.889</td>\n",
       "      <td>401661.111</td>\n",
       "      <td>300420.000</td>\n",
       "      <td>217442.857</td>\n",
       "      <td>1391925.417</td>\n",
       "      <td>940902.308</td>\n",
       "      <td>35272.727</td>\n",
       "      <td>644552.632</td>\n",
       "      <td>55000.000</td>\n",
       "    </tr>\n",
       "  </tbody>\n",
       "</table>\n",
       "</div>"
      ],
      "text/plain": [
       "category    ART_AND_DESIGN  AUTO_AND_VEHICLES     BEAUTY  BOOKS_AND_REFERENCE  \\\n",
       "popularity                                                                      \n",
       "0              1613882.353         543961.538 249545.455           851294.186   \n",
       "1                      nan          18016.667  10000.000           152857.143   \n",
       "\n",
       "category     BUSINESS      COMICS  COMMUNICATION     DATING   EDUCATION  \\\n",
       "popularity                                                                \n",
       "0          568983.372  348285.714    4430088.571 915488.235 2209136.364   \n",
       "1          265477.273 1025000.000      22014.286 427674.211  100000.000   \n",
       "\n",
       "category    ENTERTAINMENT     EVENTS      FAMILY    FINANCE  FOOD_AND_DRINK  \\\n",
       "popularity                                                                    \n",
       "0             4700000.000 151016.667 1572001.039 858917.273     1105565.789   \n",
       "1                     nan        nan  482407.030  85392.593     1732857.143   \n",
       "\n",
       "category           GAME  HEALTH_AND_FITNESS  HOUSE_AND_HOME  \\\n",
       "popularity                                                    \n",
       "0          22399198.596         1979567.833     4040200.000   \n",
       "1           1504100.000          479221.739      367000.000   \n",
       "\n",
       "category    LIBRARIES_AND_DEMO   LIFESTYLE  MAPS_AND_NAVIGATION    MEDICAL  \\\n",
       "popularity                                                                   \n",
       "0                    83454.545 1417485.574          1180853.846 196589.494   \n",
       "1                   300000.000  292823.333            23923.846  59523.214   \n",
       "\n",
       "category    NEWS_AND_MAGAZINES   PARENTING  PERSONALIZATION  PHOTOGRAPHY  \\\n",
       "popularity                                                                 \n",
       "0                   737211.429 1151500.000      5307334.714  7726089.459   \n",
       "1                   340684.211   10000.000       522270.000   355733.889   \n",
       "\n",
       "category    PRODUCTIVITY    SHOPPING      SOCIAL      SPORTS       TOOLS  \\\n",
       "popularity                                                                 \n",
       "0            5845768.636 7726915.185 1203945.270 2481060.698 6790696.698   \n",
       "1             401661.111  300420.000  217442.857 1391925.417  940902.308   \n",
       "\n",
       "category    TRAVEL_AND_LOCAL  VIDEO_PLAYERS    WEATHER  \n",
       "popularity                                              \n",
       "0                1537442.857   20186535.714 836000.000  \n",
       "1                  35272.727     644552.632  55000.000  "
      ]
     },
     "execution_count": 53,
     "metadata": {},
     "output_type": "execute_result"
    }
   ],
   "source": [
    "train.pivot_table(index=\"popularity\", columns=\"category\", values=\"installs\", aggfunc=\"mean\")\n",
    "#train[\"category\"].value_counts()"
   ]
  },
  {
   "cell_type": "code",
   "execution_count": 261,
   "metadata": {},
   "outputs": [
    {
     "data": {
      "image/png": "[encoded data removed]",
      "text/plain": [
       "<Figure size 432x288 with 1 Axes>"
      ]
     },
     "metadata": {
      "needs_background": "light"
     },
     "output_type": "display_data"
    },
    {
     "data": {
      "image/png": "[encoded data removed]",
      "text/plain": [
       "<Figure size 432x288 with 1 Axes>"
      ]
     },
     "metadata": {
      "needs_background": "light"
     },
     "output_type": "display_data"
    }
   ],
   "source": [
    "for i in cat_df.columns:\n",
    "    sns.barplot(cat_df[i].value_counts().index, cat_df[i].value_counts()).set_title(i)\n",
    "    plt.show()"
   ]
  },
  {
   "cell_type": "code",
   "execution_count": 268,
   "metadata": {},
   "outputs": [
    {
     "data": {
      "text/plain": [
       "FAMILY                 409\n",
       "GAME                   191\n",
       "TOOLS                  171\n",
       "MEDICAL                105\n",
       "LIFESTYLE               91\n",
       "HEALTH_AND_FITNESS      83\n",
       "FINANCE                 82\n",
       "PERSONALIZATION         80\n",
       "BUSINESS                65\n",
       "PRODUCTIVITY            62\n",
       "BOOKS_AND_REFERENCE     57\n",
       "SPORTS                  55\n",
       "PHOTOGRAPHY             55\n",
       "NEWS_AND_MAGAZINES      54\n",
       "SOCIAL                  44\n",
       "DATING                  36\n",
       "COMMUNICATION           35\n",
       "VIDEO_PLAYERS           33\n",
       "SHOPPING                32\n",
       "MAPS_AND_NAVIGATION     26\n",
       "FOOD_AND_DRINK          26\n",
       "TRAVEL_AND_LOCAL        25\n",
       "EDUCATION               23\n",
       "COMICS                  19\n",
       "AUTO_AND_VEHICLES       19\n",
       "ART_AND_DESIGN          17\n",
       "LIBRARIES_AND_DEMO      13\n",
       "EVENTS                  12\n",
       "WEATHER                 12\n",
       "BEAUTY                  12\n",
       "PARENTING               11\n",
       "ENTERTAINMENT            8\n",
       "HOUSE_AND_HOME           8\n",
       "Name: category, dtype: int64"
      ]
     },
     "execution_count": 268,
     "metadata": {},
     "output_type": "execute_result"
    }
   ],
   "source": [
    "cat_df[\"category\"].value_counts()"
   ]
  },
  {
   "cell_type": "code",
   "execution_count": 62,
   "metadata": {},
   "outputs": [
    {
     "name": "stdout",
     "output_type": "stream",
     "text": [
      "Best estimator N: 2\n",
      "Best score: 0.7465437788018433\n"
     ]
    },
    {
     "data": {
      "image/png": "[encoded data removed]",
      "text/plain": [
       "<Figure size 504x360 with 1 Axes>"
      ]
     },
     "metadata": {
      "needs_background": "light"
     },
     "output_type": "display_data"
    }
   ],
   "source": [
    "from sklearn.pipeline import make_pipeline\n",
    "from numpy import mean, std\n",
    "from sklearn.neighbors import KNeighborsClassifier\n",
    "from sklearn import metrics\n",
    "\n",
    "scores = []\n",
    "range_ = np.arange(1, 20, 1)\n",
    "best_n = 0\n",
    "best_score = 0\n",
    "for i in range_:\n",
    "    knn = KNeighborsClassifier(n_neighbors=i, metric=\"euclidean\") #creating KNN model object\n",
    "    pipe = make_pipeline(preprocessor, knn)\n",
    "    pipe.fit(X_train, y_train)\n",
    "    pred = pipe.predict(X_test)\n",
    "    score = metrics.accuracy_score(y_test, pred)\n",
    "    if best_score < score and score < 1: #saving best score\n",
    "        best_score = score\n",
    "        best_n = i #saving best n estimator\n",
    "    scores.append(score)\n",
    "    \n",
    "plt.figure(figsize=(7, 5))\n",
    "plt.title(\"Effect of Estimators\")\n",
    "plt.xlabel(\"Number of Neigbors K\")\n",
    "plt.ylabel(\"Score\")\n",
    "plt.plot(range_, scores)\n",
    "\n",
    "print(\"Best estimator N: {}\".format(best_n))\n",
    "print(\"Best score: {}\".format(best_score))"
   ]
  },
  {
   "cell_type": "code",
   "execution_count": 79,
   "metadata": {},
   "outputs": [
    {
     "data": {
      "text/plain": [
       "0.7371894878879394"
      ]
     },
     "execution_count": 79,
     "metadata": {},
     "output_type": "execute_result"
    }
   ],
   "source": [
    "#USING CROSS VAL SCORE ON KNN MODEL W/ BEST NEIGHBOR\n",
    "knn = KNeighborsClassifier(n_neighbors=best_n, metric=\"euclidean\") #creating KNN model object\n",
    "pipe = make_pipeline(preprocessor, knn)\n",
    "scores = cross_val_score(pipe, X, y, cv=5, scoring=\"accuracy\")\n",
    "scores.mean()"
   ]
  },
  {
   "cell_type": "code",
   "execution_count": 366,
   "metadata": {
    "colab": {},
    "colab_type": "code",
    "id": "OTAmbKi8asKt"
   },
   "outputs": [
    {
     "name": "stdout",
     "output_type": "stream",
     "text": [
      "Accuracy:  0.7327188940092166\n"
     ]
    }
   ],
   "source": [
    "#Trying logistic regression to see if accuracy improves\n",
    "from sklearn.linear_model import LogisticRegression\n",
    "logreg = LogisticRegression()\n",
    "pipe = make_pipeline(column_trans, logreg)\n",
    "pipe.fit(X_train, y_train)\n",
    "predicted = pipe.predict(X_test)\n",
    "print(\"Accuracy: \", metrics.accuracy_score(y_test, predicted))"
   ]
  },
  {
   "cell_type": "code",
   "execution_count": 146,
   "metadata": {},
   "outputs": [
    {
     "name": "stdout",
     "output_type": "stream",
     "text": [
      "Accuracy:  0.7357910906298003\n"
     ]
    }
   ],
   "source": [
    "from sklearn import svm\n",
    "clf = svm.SVC()\n",
    "pipe = make_pipeline(preprocessor, clf)\n",
    "pipe.fit(X_train, y_train)\n",
    "predicted = pipe.predict(X_test)\n",
    "print(\"Accuracy: \", accuracy_score(y_test, predicted))"
   ]
  },
  {
   "cell_type": "code",
   "execution_count": 68,
   "metadata": {},
   "outputs": [
    {
     "name": "stdout",
     "output_type": "stream",
     "text": [
      "Top Estimator:  190\n",
      "Top Score:  0.7895545314900153\n"
     ]
    },
    {
     "data": {
      "image/png": "[encoded data removed]",
      "text/plain": [
       "<Figure size 504x360 with 1 Axes>"
      ]
     },
     "metadata": {
      "needs_background": "light"
     },
     "output_type": "display_data"
    }
   ],
   "source": [
    "from sklearn.ensemble import RandomForestClassifier\n",
    "from sklearn.metrics import accuracy_score\n",
    "\n",
    "estimators = np.arange(10, 200, 10)\n",
    "scores = []\n",
    "top_estimator = 0\n",
    "top_score = 0\n",
    "for n in estimators:\n",
    "    forest = RandomForestClassifier(n_estimators=n)\n",
    "    pipe = make_pipeline(preprocessor, forest)\n",
    "    pipe.fit(X_train, y_train)\n",
    "    score = pipe.score(X_test, y_test)\n",
    "    top_score = score if top_score < score else top_score\n",
    "    top_estimator = n if top_score > score else top_estimator\n",
    "    scores.append(score)\n",
    "plt.figure(figsize=(7, 5))\n",
    "plt.title(\"Effect of Estimators\")\n",
    "plt.xlabel(\"Number of Neigbors K\")\n",
    "plt.ylabel(\"Score\")\n",
    "plt.plot(estimators, scores)\n",
    "results = list(zip(estimators, scores))\n",
    "print(\"Top Estimator: \", top_estimator)\n",
    "print(\"Top Score: \", top_score)"
   ]
  },
  {
   "cell_type": "code",
   "execution_count": 82,
   "metadata": {},
   "outputs": [
    {
     "name": "stdout",
     "output_type": "stream",
     "text": [
      "0.766117072543854\n"
     ]
    }
   ],
   "source": [
    "forest = RandomForestClassifier(n_estimators=top_estimator)\n",
    "pipe = make_pipeline(preprocessor, forest)\n",
    "scores = cross_val_score(pipe, X, y, cv=5, scoring=\"accuracy\")\n",
    "print(scores.mean())"
   ]
  }
 ],
 "metadata": {
  "colab": {
   "collapsed_sections": [],
   "name": "Questions.ipynb",
   "provenance": []
  },
  "kernelspec": {
   "display_name": "Python 3",
   "language": "python",
   "name": "python3"
  },
  "language_info": {
   "codemirror_mode": {
    "name": "ipython",
    "version": 3
   },
   "file_extension": ".py",
   "mimetype": "text/x-python",
   "name": "python",
   "nbconvert_exporter": "python",
   "pygments_lexer": "ipython3",
   "version": "3.8.3"
  }
 },
 "nbformat": 4,
 "nbformat_minor": 4
}
